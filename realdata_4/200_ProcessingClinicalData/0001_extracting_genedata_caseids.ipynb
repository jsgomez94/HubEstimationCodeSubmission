{
 "cells": [
  {
   "cell_type": "code",
   "execution_count": 2,
   "metadata": {},
   "outputs": [],
   "source": [
    "import os\n",
    "import pandas as pd\n",
    "import numpy as np\n",
    "\n",
    "root_dir = \"C:/Users/Len Ovo/Dropbox/Jose-Yufeng/7_Github/HubEstimation/RealData_PaperRevision/1_processing_clinical_data\""
   ]
  },
  {
   "cell_type": "code",
   "execution_count": 21,
   "metadata": {},
   "outputs": [
    {
     "name": "stdout",
     "output_type": "stream",
     "text": [
      "(60483, 553)\n"
     ]
    }
   ],
   "source": [
    "\n",
    "fpkm_uq_df = pd.read_csv(\n",
    "    filepath_or_buffer = os.path.join(root_dir, \"Merged_FPKM-UQ.tsv\"),\n",
    "    sep='\\t')\n",
    "print(fpkm_uq_df.shape)"
   ]
  },
  {
   "cell_type": "code",
   "execution_count": 28,
   "metadata": {},
   "outputs": [
    {
     "name": "stdout",
     "output_type": "stream",
     "text": [
      "551\n",
      "550\n",
      "<class 'list'>\n"
     ]
    }
   ],
   "source": [
    "case_ids = fpkm_uq_df.columns[2:]\n",
    "case_ids = case_ids.to_list()\n",
    "print(len(case_ids))\n",
    "print(len(case_ids[1:]))\n",
    "print(type(case_ids))"
   ]
  },
  {
   "cell_type": "code",
   "execution_count": 30,
   "metadata": {},
   "outputs": [
    {
     "name": "stdout",
     "output_type": "stream",
     "text": [
      "16528\n"
     ]
    }
   ],
   "source": [
    "str_ids = case_ids[0]\n",
    "for case_id in case_ids[1:]:\n",
    "    str_ids = str_ids +\", \" + case_id\n",
    "\n",
    "print(len(str_ids))\n"
   ]
  },
  {
   "cell_type": "code",
   "execution_count": 31,
   "metadata": {},
   "outputs": [],
   "source": [
    "saving_ids = os.path.join(root_dir, \"case_ids.txt\")\n",
    "\n",
    "with open(saving_ids, \"w\") as output:\n",
    "    output.write(str_ids)"
   ]
  },
  {
   "cell_type": "code",
   "execution_count": 29,
   "metadata": {},
   "outputs": [
    {
     "data": {
      "text/plain": [
       "'TCGA-CH-5746-01A-11R-1580-07'"
      ]
     },
     "execution_count": 29,
     "metadata": {},
     "output_type": "execute_result"
    }
   ],
   "source": [
    "case_ids[0]"
   ]
  }
 ],
 "metadata": {
  "kernelspec": {
   "display_name": "Python 3",
   "language": "python",
   "name": "python3"
  },
  "language_info": {
   "codemirror_mode": {
    "name": "ipython",
    "version": 3
   },
   "file_extension": ".py",
   "mimetype": "text/x-python",
   "name": "python",
   "nbconvert_exporter": "python",
   "pygments_lexer": "ipython3",
   "version": "3.9.2"
  },
  "orig_nbformat": 4,
  "vscode": {
   "interpreter": {
    "hash": "d9c7ebf1356ceb74cb075e7a7ed814d197896525d87e857a079eb5c460ee125e"
   }
  }
 },
 "nbformat": 4,
 "nbformat_minor": 2
}
